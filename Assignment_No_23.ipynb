{
  "nbformat": 4,
  "nbformat_minor": 0,
  "metadata": {
    "colab": {
      "provenance": []
    },
    "kernelspec": {
      "name": "python3",
      "display_name": "Python 3"
    },
    "language_info": {
      "name": "python"
    }
  },
  "cells": [
    {
      "cell_type": "markdown",
      "source": [
        "**Question No.1**\n",
        "\n",
        "**Create a function that takes a number as an argument and returns True or False depending on whether the number is symmetrical or not. A number is symmetrical when it is the same as its reverse.**\n",
        "\n",
        "**Examples**\n",
        "\n",
        "* is_symmetrical(7227) ➞ True\n",
        "\n",
        "* is_symmetrical(12567) ➞ False\n",
        "\n",
        "* is_symmetrical(44444444) ➞ True\n",
        "\n",
        "* is_symmetrical(9939) ➞ False\n",
        "\n",
        "* is_symmetrical(1112111) ➞ True\n"
      ],
      "metadata": {
        "id": "NyhrrYV-IHwf"
      }
    },
    {
      "cell_type": "code",
      "execution_count": 1,
      "metadata": {
        "id": "7u7z9jLgEzQb"
      },
      "outputs": [],
      "source": [
        "def Is_symmentrical(n) :\n",
        "    n2 = str(n)\n",
        "    n3 = n2[::-1]\n",
        "    n4 = int(n3) \n",
        "    if n == n4 :\n",
        "        return True \n",
        "    else :\n",
        "        return False"
      ]
    },
    {
      "cell_type": "code",
      "source": [
        "Is_symmentrical(7227)"
      ],
      "metadata": {
        "colab": {
          "base_uri": "https://localhost:8080/"
        },
        "id": "0IcbmshSHyoL",
        "outputId": "e62d9913-e48a-4143-fda4-8bb8f5ea49fc"
      },
      "execution_count": 2,
      "outputs": [
        {
          "output_type": "execute_result",
          "data": {
            "text/plain": [
              "True"
            ]
          },
          "metadata": {},
          "execution_count": 2
        }
      ]
    },
    {
      "cell_type": "code",
      "source": [
        "Is_symmentrical(12567)"
      ],
      "metadata": {
        "colab": {
          "base_uri": "https://localhost:8080/"
        },
        "id": "2RJI-zMIH-x2",
        "outputId": "c6edddfd-aea8-4c0e-e603-6b5d51fe0585"
      },
      "execution_count": 3,
      "outputs": [
        {
          "output_type": "execute_result",
          "data": {
            "text/plain": [
              "False"
            ]
          },
          "metadata": {},
          "execution_count": 3
        }
      ]
    },
    {
      "cell_type": "markdown",
      "source": [
        "\n",
        "\n",
        "---\n",
        "\n"
      ],
      "metadata": {
        "id": "6YiDt9hqIGfC"
      }
    },
    {
      "cell_type": "markdown",
      "source": [
        "**Question No.2**\n",
        "\n",
        "**Given a string of numbers separated by a comma and space, return the product of the numbers.**\n",
        "\n",
        "**Examples**\n",
        "\n",
        "* multiply_nums(\"2, 3\") ➞ 6\n",
        "\n",
        "* multiply_nums(\"1, 2, 3, 4\") ➞ 24\n",
        "\n",
        "* multiply_nums(\"54, 75, 453, 0\") ➞ 0\n",
        "\n",
        "* multiply_nums(\"10, -2\") ➞ -20"
      ],
      "metadata": {
        "id": "lu0eKjrkIchR"
      }
    },
    {
      "cell_type": "code",
      "source": [
        "def multiply_nums(*argv) :\n",
        "    product = 1\n",
        "    for i in argv :\n",
        "        product = product * i\n",
        "    return product\n",
        "        "
      ],
      "metadata": {
        "id": "qoHGDfKEIFQf"
      },
      "execution_count": 4,
      "outputs": []
    },
    {
      "cell_type": "code",
      "source": [
        "multiply_nums(1,3,4,5)"
      ],
      "metadata": {
        "colab": {
          "base_uri": "https://localhost:8080/"
        },
        "id": "Jki5c1ESJ_Ed",
        "outputId": "c8eb9d01-1911-475a-9104-638be198c6bb"
      },
      "execution_count": 5,
      "outputs": [
        {
          "output_type": "execute_result",
          "data": {
            "text/plain": [
              "60"
            ]
          },
          "metadata": {},
          "execution_count": 5
        }
      ]
    },
    {
      "cell_type": "code",
      "source": [
        "multiply_nums(10,-2)"
      ],
      "metadata": {
        "colab": {
          "base_uri": "https://localhost:8080/"
        },
        "id": "b7f_ryD1KD4o",
        "outputId": "997d76bd-cd52-43f7-b98c-4216ba428283"
      },
      "execution_count": 6,
      "outputs": [
        {
          "output_type": "execute_result",
          "data": {
            "text/plain": [
              "-20"
            ]
          },
          "metadata": {},
          "execution_count": 6
        }
      ]
    },
    {
      "cell_type": "markdown",
      "source": [
        "\n",
        "\n",
        "---\n",
        "\n"
      ],
      "metadata": {
        "id": "JBL2ObA1KMU2"
      }
    },
    {
      "cell_type": "markdown",
      "source": [
        "**Question No.3**\n",
        "\n",
        "**Create a function that squares every digit of a number.**\n",
        "\n",
        "**Examples**\n",
        "\n",
        "* square_digits(9119) ➞ 811181\n",
        "\n",
        "* square_digits(2483) ➞ 416649\n",
        "\n",
        "* square_digits(3212) ➞ 9414\n",
        "\n",
        "**Notes\n",
        "The function receives an integer and must return an integer**"
      ],
      "metadata": {
        "id": "DeVvQv8pKOGM"
      }
    },
    {
      "cell_type": "code",
      "source": [
        "def Sqr_digit(n) :\n",
        "    sqr = \"\"\n",
        "    for i in str(n) :\n",
        "        values = int(i) ** 2\n",
        "        sqr = sqr + str(values)\n",
        "        sqr2 = int(sqr)\n",
        "    return sqr2"
      ],
      "metadata": {
        "id": "QAK8qQh1KI7I"
      },
      "execution_count": 7,
      "outputs": []
    },
    {
      "cell_type": "code",
      "source": [
        "Sqr_digit(9119)"
      ],
      "metadata": {
        "colab": {
          "base_uri": "https://localhost:8080/"
        },
        "id": "-7F7zWP0NX5h",
        "outputId": "9d5813d5-31c3-4633-a2d1-a9814bdef2e4"
      },
      "execution_count": 8,
      "outputs": [
        {
          "output_type": "execute_result",
          "data": {
            "text/plain": [
              "811181"
            ]
          },
          "metadata": {},
          "execution_count": 8
        }
      ]
    },
    {
      "cell_type": "code",
      "source": [
        "Sqr_digit(2483)"
      ],
      "metadata": {
        "colab": {
          "base_uri": "https://localhost:8080/"
        },
        "id": "n7rVTktVNgkM",
        "outputId": "056c15d3-0406-4d0d-bd19-a03b1a021197"
      },
      "execution_count": 9,
      "outputs": [
        {
          "output_type": "execute_result",
          "data": {
            "text/plain": [
              "416649"
            ]
          },
          "metadata": {},
          "execution_count": 9
        }
      ]
    },
    {
      "cell_type": "markdown",
      "source": [
        "\n",
        "\n",
        "---\n",
        "\n"
      ],
      "metadata": {
        "id": "MIISl3zmNoLd"
      }
    },
    {
      "cell_type": "markdown",
      "source": [
        "**Question No.4**\n",
        "\n",
        "**Create a function that sorts a list and removes all duplicate items from it.**\n",
        "\n",
        "**Examples**\n",
        "\n",
        "* setify([1, 3, 3, 5, 5]) ➞ [1, 3, 5]\n",
        "\n",
        "* setify([4, 4, 4, 4]) ➞ [4]\n",
        "\n",
        "* setify([5, 7, 8, 9, 10, 15]) ➞ [5, 7, 8, 9, 10, 15]\n",
        "\n",
        "* setify([3, 3, 3, 2, 1]) ➞ [1, 2, 3]\n",
        "\n"
      ],
      "metadata": {
        "id": "GpSx_knwNpgj"
      }
    },
    {
      "cell_type": "code",
      "source": [
        "def setify(n) :\n",
        "    n1 = set(n)\n",
        "    n2 = list(n1)\n",
        "    n2.sort()\n",
        "    return n2"
      ],
      "metadata": {
        "id": "1xsRiTb8Nmqj"
      },
      "execution_count": 10,
      "outputs": []
    },
    {
      "cell_type": "code",
      "source": [
        "setify([1, 3, 3, 5, 5])"
      ],
      "metadata": {
        "colab": {
          "base_uri": "https://localhost:8080/"
        },
        "id": "L2gA-AwASjhe",
        "outputId": "8d71a0ab-91a7-45e6-b945-8072499c7e6b"
      },
      "execution_count": 11,
      "outputs": [
        {
          "output_type": "execute_result",
          "data": {
            "text/plain": [
              "[1, 3, 5]"
            ]
          },
          "metadata": {},
          "execution_count": 11
        }
      ]
    },
    {
      "cell_type": "code",
      "source": [
        "setify([4, 4, 4, 4])"
      ],
      "metadata": {
        "colab": {
          "base_uri": "https://localhost:8080/"
        },
        "id": "eqgY-EVFSn0o",
        "outputId": "b5522f92-c523-4b18-f1a8-7085f5ebf78d"
      },
      "execution_count": 12,
      "outputs": [
        {
          "output_type": "execute_result",
          "data": {
            "text/plain": [
              "[4]"
            ]
          },
          "metadata": {},
          "execution_count": 12
        }
      ]
    },
    {
      "cell_type": "code",
      "source": [
        "setify([3, 3, 3, 2, 1])"
      ],
      "metadata": {
        "colab": {
          "base_uri": "https://localhost:8080/"
        },
        "id": "UHeAiTswS5Ih",
        "outputId": "e9e5f245-5069-4f06-cb2c-6849d1f97f22"
      },
      "execution_count": 13,
      "outputs": [
        {
          "output_type": "execute_result",
          "data": {
            "text/plain": [
              "[1, 2, 3]"
            ]
          },
          "metadata": {},
          "execution_count": 13
        }
      ]
    },
    {
      "cell_type": "markdown",
      "source": [
        "\n",
        "\n",
        "---\n",
        "\n"
      ],
      "metadata": {
        "id": "qTccudfQTC0R"
      }
    },
    {
      "cell_type": "markdown",
      "source": [
        "**Question No.5**\n",
        "\n",
        "**Create a function that returns the mean of all digits.**\n",
        "\n",
        "**Examples**\n",
        "\n",
        "* mean(42) ➞ 3\n",
        "\n",
        "* mean(12345) ➞ 3\n",
        "\n",
        "* mean(666) ➞ 6\n",
        "\n",
        "**Notes\n",
        "•\tThe mean of all digits is the sum of digits / how many digits there are (e.g. mean of digits in 512 is (5+1+2)/3(number of digits) = 8/3=2).\n",
        "•\tThe mean will always be an integer.**"
      ],
      "metadata": {
        "id": "3h7VU0Z4TFwp"
      }
    },
    {
      "cell_type": "code",
      "source": [
        "def mean(n) :\n",
        "    sum1 = 0 \n",
        "    for i in str(n) :\n",
        "        sum1 = sum1 + int(i)\n",
        "    return sum1 / len(str(n))"
      ],
      "metadata": {
        "id": "ndYVJLVNS_LI"
      },
      "execution_count": 23,
      "outputs": []
    },
    {
      "cell_type": "code",
      "source": [
        "mean(42)"
      ],
      "metadata": {
        "colab": {
          "base_uri": "https://localhost:8080/"
        },
        "id": "Vei0uU06T8hL",
        "outputId": "c670ac30-2277-48cf-de1e-933c428d1932"
      },
      "execution_count": 24,
      "outputs": [
        {
          "output_type": "execute_result",
          "data": {
            "text/plain": [
              "3.0"
            ]
          },
          "metadata": {},
          "execution_count": 24
        }
      ]
    },
    {
      "cell_type": "code",
      "source": [
        "mean(12345)"
      ],
      "metadata": {
        "colab": {
          "base_uri": "https://localhost:8080/"
        },
        "id": "GDKhQ-W6T_qR",
        "outputId": "f99abc36-da64-4170-8b76-aebacd2dce3d"
      },
      "execution_count": 25,
      "outputs": [
        {
          "output_type": "execute_result",
          "data": {
            "text/plain": [
              "3.0"
            ]
          },
          "metadata": {},
          "execution_count": 25
        }
      ]
    },
    {
      "cell_type": "code",
      "source": [
        "mean(666)"
      ],
      "metadata": {
        "colab": {
          "base_uri": "https://localhost:8080/"
        },
        "id": "VLb4xPwVXChm",
        "outputId": "c70bc735-20ae-48bc-fccb-392b96bb323e"
      },
      "execution_count": 26,
      "outputs": [
        {
          "output_type": "execute_result",
          "data": {
            "text/plain": [
              "6.0"
            ]
          },
          "metadata": {},
          "execution_count": 26
        }
      ]
    },
    {
      "cell_type": "markdown",
      "source": [
        "\n",
        "\n",
        "---\n",
        "\n"
      ],
      "metadata": {
        "id": "YWdFCTmlXJq7"
      }
    },
    {
      "cell_type": "code",
      "source": [],
      "metadata": {
        "id": "-L6MFuqdXHrw"
      },
      "execution_count": null,
      "outputs": []
    }
  ]
}